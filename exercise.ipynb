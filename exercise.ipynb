{
 "cells": [
  {
   "cell_type": "markdown",
   "metadata": {},
   "source": [
    "## Imports"
   ]
  },
  {
   "cell_type": "code",
   "execution_count": 1,
   "metadata": {},
   "outputs": [],
   "source": [
    "# SQL Queries\n",
    "import sqlite3"
   ]
  },
  {
   "cell_type": "markdown",
   "metadata": {},
   "source": [
    "# Offline Exercise\n",
    "\n",
    "This notebook has the questions and instructions for the offline exercise. If you haven't already, please go through the `README.md` file before you begin answering the questions here.\n",
    "\n",
    "Make sure you do NOT commit your answers back to the repo. Instead, copy-paste this notebook together with the `touches.sqlite3` file to a separate folder in your machine, type your answers in that copied notebook, and when you're done, share the new Jupyter notebook back with the recruiter together with additional modules, graphs etc. that you may have. You would need to use the data in the `touches.sqlite3` file to answer all the questions."
   ]
  },
  {
   "cell_type": "markdown",
   "metadata": {},
   "source": [
    "### Question 1. Find the most common industry out of all the companies that were `contacted`."
   ]
  },
  {
   "cell_type": "code",
   "execution_count": 3,
   "metadata": {},
   "outputs": [],
   "source": [
    "con = sqlite3.connect(\"touches.sqlite3\")  # Connecting SQL to database\n",
    "cursor = con.cursor()  # Connecting curor/pointer to database"
   ]
  },
  {
   "cell_type": "code",
   "execution_count": 12,
   "metadata": {},
   "outputs": [
    {
     "name": "stdout",
     "output_type": "stream",
     "text": [
      "[('eCommerce',)]\n"
     ]
    }
   ],
   "source": [
    "cursor.execute(\"\"\"\n",
    "SELECT MAX(industry) FROM companies c \n",
    "INNER JOIN persons p ON c.id = p.company_id\n",
    "LEFT JOIN touches t ON p.id = t.person_id\n",
    "WHERE status LIKE \"completed\"\n",
    "\"\"\")\n",
    "\n",
    "print(cursor.fetchall())"
   ]
  },
  {
   "cell_type": "markdown",
   "metadata": {},
   "source": [
    "### Code Explanation\n",
    "\n",
    "Question 1 wants to return the most\n",
    "common industry that were contacted.\n",
    "\n",
    "We first use the key word MAX to select\n",
    "the max value of the industry column from\n",
    "the table companies.\n",
    "\n",
    "The two tables, companies and persons connect \n",
    "using an id. An inner join is performed to extract\n",
    "as much information as possible.\n",
    "\n",
    "The last statement is the WHERE statement.\n",
    "Showing results where the status column has\n",
    "a value of completed"
   ]
  },
  {
   "cell_type": "markdown",
   "metadata": {},
   "source": [
    "### Question 2. What is the most common touch type sellers use when they’re making their first touch with a person? What about first touch with a company?"
   ]
  },
  {
   "cell_type": "code",
   "execution_count": 15,
   "metadata": {},
   "outputs": [
    {
     "name": "stdout",
     "output_type": "stream",
     "text": [
      "Common touch type for person: [('Phone',)]\n"
     ]
    }
   ],
   "source": [
    "# Query for common touch type for a person\n",
    "cursor.execute(\"\"\"\n",
    "SELECT MAX(touch_type) FROM touches t \n",
    "INNER JOIN persons p ON t.person_id = p.id\n",
    "\"\"\")\n",
    "\n",
    "print(\"Common touch type for person:\", cursor.fetchall())"
   ]
  },
  {
   "cell_type": "markdown",
   "metadata": {},
   "source": [
    "### Code Explanation\n",
    "\n",
    "Selecting the max value of the touch_type column from the touches table.\n",
    "\n",
    "An inner join is then taken place using the persons table; connecting using id.\n",
    "\n",
    "The end result turns back phone.\n",
    "\n",
    "**Reasoning:**\n",
    "\n",
    "I want to take a moment to explain the process behind this code, for this was actually a little confusing to perform:\n",
    "\n",
    "I combine the two tables, touches and persons because I'm asked to find the most common touch with a person, and the persons table seemed like the correct choice, and I was able to join it with touches."
   ]
  },
  {
   "cell_type": "code",
   "execution_count": 20,
   "metadata": {},
   "outputs": [
    {
     "name": "stdout",
     "output_type": "stream",
     "text": [
      "Commont touch type for company: [('Phone',)]\n"
     ]
    }
   ],
   "source": [
    "# Query for common touch type with company\n",
    "cursor.execute(\"\"\"\n",
    "SELECT MAX(touch_type) FROM companies c \n",
    "INNER JOIN persons p ON c.id = p.company_id\n",
    "INNER JOIN opportunities o ON c.id = o.company_id\n",
    "LEFT JOIN touches t ON p.id = t.person_id;\n",
    "\"\"\")\n",
    "\n",
    "print(\"Commont touch type for company:\", cursor.fetchall())"
   ]
  },
  {
   "cell_type": "markdown",
   "metadata": {},
   "source": [
    "### Code Explanation\n",
    "\n",
    "Selecting the max values out of the touch_type column. \n",
    "\n",
    "Grabbing the companies table and performing an inner join with persons on company id and id.\n",
    "\n",
    "A second inner join is performed with opportunites on the company table id and the opportunities company_id.\n",
    "\n",
    "The last join is a left join with touches, where we get the touch_type column, and this is on persons id.\n",
    "\n",
    "**Reasoning:**\n",
    "\n",
    "I want to take a moment to show my thought process:\n",
    "\n",
    "I chose to start with the companies table and combine all of the tables with it to achieve my result. \n",
    "\n",
    "I chose the companies table because of the question that is asked. "
   ]
  },
  {
   "cell_type": "markdown",
   "metadata": {},
   "source": [
    "### Question 3. Describe the distribution of the job seniorities of people that a seller will first try to contact within a company.\n",
    "\n",
    "To answer this question, you may use visuals, graphs, bunch of scores, tables, writeups - whatever you want. We literally want you to \"describe\" the distribution to us in the best way you can!\n",
    "\n",
    "(Note: this question doesn't really have one right answer. It's more about your style of communicating the results.)"
   ]
  },
  {
   "cell_type": "code",
   "execution_count": null,
   "metadata": {},
   "outputs": [],
   "source": []
  },
  {
   "cell_type": "code",
   "execution_count": null,
   "metadata": {},
   "outputs": [],
   "source": []
  },
  {
   "cell_type": "code",
   "execution_count": null,
   "metadata": {},
   "outputs": [],
   "source": []
  },
  {
   "cell_type": "markdown",
   "metadata": {},
   "source": [
    "### Question 4. Describe the distribution of the mixture of job seniorities of people that a seller will touch during the entire engagement with a company.\n",
    "Keep in mind that you get to decide what “mixture” means, so do begin your answer by defining it - and explaining why you think this definition makes sense. Again, feel free to use whatever visuals, graphs, bunch of scores, tables, writeups etc. that you think is appropriate for this question.\n",
    "\n",
    "(Note: this question doesn't really have one right answer. It's more about your style of communicating the results.)"
   ]
  },
  {
   "cell_type": "code",
   "execution_count": null,
   "metadata": {},
   "outputs": [],
   "source": []
  },
  {
   "cell_type": "code",
   "execution_count": null,
   "metadata": {},
   "outputs": [],
   "source": []
  },
  {
   "cell_type": "code",
   "execution_count": null,
   "metadata": {},
   "outputs": [],
   "source": []
  },
  {
   "cell_type": "markdown",
   "metadata": {},
   "source": [
    "### Question 5. Build an algorithm that, when a seller is about to contact a company it never reached out to before, recommends the best/optimal mixture of job seniorities (with “mixture” as defined by you in Question 4.) they should be targeting within that company during the entire engagement.\n",
    "\n",
    "This is the hardest question in this exercise. If you feel you have a good idea what the algorithm should look like but either feel uncomfortable coding-wise or feel pressed for time, it is perfectly OK to describe your idea in words. Be clear, explain both what it does and why you think this is the right approach.\n",
    "\n",
    "Whether or not you go the code-route or writeup-route, be sure to explain the assumptions and choices you made, why you made them and how you would test them.\n",
    "\n",
    "(Note: like with the previous two questions, this question doesn't really have one right answer either!)"
   ]
  },
  {
   "cell_type": "code",
   "execution_count": null,
   "metadata": {},
   "outputs": [],
   "source": []
  },
  {
   "cell_type": "code",
   "execution_count": null,
   "metadata": {},
   "outputs": [],
   "source": []
  },
  {
   "cell_type": "code",
   "execution_count": null,
   "metadata": {},
   "outputs": [],
   "source": []
  }
 ],
 "metadata": {
  "kernelspec": {
   "display_name": "Python 3",
   "language": "python",
   "name": "python3"
  },
  "language_info": {
   "codemirror_mode": {
    "name": "ipython",
    "version": 3
   },
   "file_extension": ".py",
   "mimetype": "text/x-python",
   "name": "python",
   "nbconvert_exporter": "python",
   "pygments_lexer": "ipython3",
   "version": "3.8.1"
  }
 },
 "nbformat": 4,
 "nbformat_minor": 4
}
